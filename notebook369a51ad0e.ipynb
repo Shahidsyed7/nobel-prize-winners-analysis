{
 "cells": [
  {
   "cell_type": "markdown",
   "id": "7ccd2335",
   "metadata": {
    "papermill": {
     "duration": 0.005435,
     "end_time": "2024-08-27T09:59:48.217794",
     "exception": false,
     "start_time": "2024-08-27T09:59:48.212359",
     "status": "completed"
    },
    "tags": []
   },
   "source": [
    "The Nobel Prize has been among the most prestigious international awards since 1901. Each year, awards are bestowed in chemistry, literature, physics, physiology or medicine, economics, and peace. In addition to the honor, prestige, and substantial prize money, the recipient also gets a gold medal with an image of Alfred Nobel (1833 - 1896), who established the prize.\n",
    "\n",
    "The Nobel Foundation has made a dataset available of all prize winners from the outset of the awards from 1901 to 2023. The dataset used in this project is from the Nobel Prize API and is available in the `nobel.csv` file in the `data` folder.\n",
    "\n",
    "In this project, you'll get a chance to explore and answer several questions related to this prizewinning data:\n",
    "*What is the most commonly awarded gender and birth country?\n",
    "*Which decade had the highest ratio of US-born Nobel Prize winners to total winners in all categories?\n",
    "*Which decade and Nobel Prize category combination had the highest proportion of female laureates?\n",
    "*Who was the first woman to receive a Nobel Prize, and in what category?\n",
    "*Which individuals or organizations have won more than one Nobel Prize throughout the years?"
   ]
  },
  {
   "cell_type": "code",
   "execution_count": 1,
   "id": "f964bfa2",
   "metadata": {
    "execution": {
     "iopub.execute_input": "2024-08-27T09:59:48.229383Z",
     "iopub.status.busy": "2024-08-27T09:59:48.228921Z",
     "iopub.status.idle": "2024-08-27T09:59:50.550074Z",
     "shell.execute_reply": "2024-08-27T09:59:50.548817Z"
    },
    "executionCancelledAt": null,
    "executionTime": 51,
    "lastExecutedAt": 1724751334790,
    "lastExecutedByKernel": "f60f6da7-9912-45a7-b29e-5975348887fe",
    "lastScheduledRunId": null,
    "lastSuccessfullyExecutedCode": "# Loading required libraries\nimport pandas as pd\nimport seaborn as sns\nimport numpy as np\ndf = pd.read_csv(\"data/nobel.csv\")\ndf.head()",
    "outputsMetadata": {
     "0": {
      "columns": {
       "prize": {
        "wrap": true
       }
      },
      "height": 511,
      "type": "dataFrame"
     }
    },
    "papermill": {
     "duration": 2.330651,
     "end_time": "2024-08-27T09:59:50.553309",
     "exception": false,
     "start_time": "2024-08-27T09:59:48.222658",
     "status": "completed"
    },
    "tags": []
   },
   "outputs": [
    {
     "data": {
      "text/html": [
       "<div>\n",
       "<style scoped>\n",
       "    .dataframe tbody tr th:only-of-type {\n",
       "        vertical-align: middle;\n",
       "    }\n",
       "\n",
       "    .dataframe tbody tr th {\n",
       "        vertical-align: top;\n",
       "    }\n",
       "\n",
       "    .dataframe thead th {\n",
       "        text-align: right;\n",
       "    }\n",
       "</style>\n",
       "<table border=\"1\" class=\"dataframe\">\n",
       "  <thead>\n",
       "    <tr style=\"text-align: right;\">\n",
       "      <th></th>\n",
       "      <th>year</th>\n",
       "      <th>category</th>\n",
       "      <th>prize</th>\n",
       "      <th>motivation</th>\n",
       "      <th>prize_share</th>\n",
       "      <th>laureate_id</th>\n",
       "      <th>laureate_type</th>\n",
       "      <th>full_name</th>\n",
       "      <th>birth_date</th>\n",
       "      <th>birth_city</th>\n",
       "      <th>birth_country</th>\n",
       "      <th>sex</th>\n",
       "      <th>organization_name</th>\n",
       "      <th>organization_city</th>\n",
       "      <th>organization_country</th>\n",
       "      <th>death_date</th>\n",
       "      <th>death_city</th>\n",
       "      <th>death_country</th>\n",
       "    </tr>\n",
       "  </thead>\n",
       "  <tbody>\n",
       "    <tr>\n",
       "      <th>0</th>\n",
       "      <td>1901</td>\n",
       "      <td>Chemistry</td>\n",
       "      <td>The Nobel Prize in Chemistry 1901</td>\n",
       "      <td>\"in recognition of the extraordinary services ...</td>\n",
       "      <td>1/1</td>\n",
       "      <td>160</td>\n",
       "      <td>Individual</td>\n",
       "      <td>Jacobus Henricus van 't Hoff</td>\n",
       "      <td>1852-08-30</td>\n",
       "      <td>Rotterdam</td>\n",
       "      <td>Netherlands</td>\n",
       "      <td>Male</td>\n",
       "      <td>Berlin University</td>\n",
       "      <td>Berlin</td>\n",
       "      <td>Germany</td>\n",
       "      <td>1911-03-01</td>\n",
       "      <td>Berlin</td>\n",
       "      <td>Germany</td>\n",
       "    </tr>\n",
       "    <tr>\n",
       "      <th>1</th>\n",
       "      <td>1901</td>\n",
       "      <td>Literature</td>\n",
       "      <td>The Nobel Prize in Literature 1901</td>\n",
       "      <td>\"in special recognition of his poetic composit...</td>\n",
       "      <td>1/1</td>\n",
       "      <td>569</td>\n",
       "      <td>Individual</td>\n",
       "      <td>Sully Prudhomme</td>\n",
       "      <td>1839-03-16</td>\n",
       "      <td>Paris</td>\n",
       "      <td>France</td>\n",
       "      <td>Male</td>\n",
       "      <td>NaN</td>\n",
       "      <td>NaN</td>\n",
       "      <td>NaN</td>\n",
       "      <td>1907-09-07</td>\n",
       "      <td>Châtenay</td>\n",
       "      <td>France</td>\n",
       "    </tr>\n",
       "    <tr>\n",
       "      <th>2</th>\n",
       "      <td>1901</td>\n",
       "      <td>Medicine</td>\n",
       "      <td>The Nobel Prize in Physiology or Medicine 1901</td>\n",
       "      <td>\"for his work on serum therapy, especially its...</td>\n",
       "      <td>1/1</td>\n",
       "      <td>293</td>\n",
       "      <td>Individual</td>\n",
       "      <td>Emil Adolf von Behring</td>\n",
       "      <td>1854-03-15</td>\n",
       "      <td>Hansdorf (Lawice)</td>\n",
       "      <td>Prussia (Poland)</td>\n",
       "      <td>Male</td>\n",
       "      <td>Marburg University</td>\n",
       "      <td>Marburg</td>\n",
       "      <td>Germany</td>\n",
       "      <td>1917-03-31</td>\n",
       "      <td>Marburg</td>\n",
       "      <td>Germany</td>\n",
       "    </tr>\n",
       "    <tr>\n",
       "      <th>3</th>\n",
       "      <td>1901</td>\n",
       "      <td>Peace</td>\n",
       "      <td>The Nobel Peace Prize 1901</td>\n",
       "      <td>NaN</td>\n",
       "      <td>1/2</td>\n",
       "      <td>462</td>\n",
       "      <td>Individual</td>\n",
       "      <td>Jean Henry Dunant</td>\n",
       "      <td>1828-05-08</td>\n",
       "      <td>Geneva</td>\n",
       "      <td>Switzerland</td>\n",
       "      <td>Male</td>\n",
       "      <td>NaN</td>\n",
       "      <td>NaN</td>\n",
       "      <td>NaN</td>\n",
       "      <td>1910-10-30</td>\n",
       "      <td>Heiden</td>\n",
       "      <td>Switzerland</td>\n",
       "    </tr>\n",
       "    <tr>\n",
       "      <th>4</th>\n",
       "      <td>1901</td>\n",
       "      <td>Peace</td>\n",
       "      <td>The Nobel Peace Prize 1901</td>\n",
       "      <td>NaN</td>\n",
       "      <td>1/2</td>\n",
       "      <td>463</td>\n",
       "      <td>Individual</td>\n",
       "      <td>Frédéric Passy</td>\n",
       "      <td>1822-05-20</td>\n",
       "      <td>Paris</td>\n",
       "      <td>France</td>\n",
       "      <td>Male</td>\n",
       "      <td>NaN</td>\n",
       "      <td>NaN</td>\n",
       "      <td>NaN</td>\n",
       "      <td>1912-06-12</td>\n",
       "      <td>Paris</td>\n",
       "      <td>France</td>\n",
       "    </tr>\n",
       "  </tbody>\n",
       "</table>\n",
       "</div>"
      ],
      "text/plain": [
       "   year    category                                           prize  \\\n",
       "0  1901   Chemistry               The Nobel Prize in Chemistry 1901   \n",
       "1  1901  Literature              The Nobel Prize in Literature 1901   \n",
       "2  1901    Medicine  The Nobel Prize in Physiology or Medicine 1901   \n",
       "3  1901       Peace                      The Nobel Peace Prize 1901   \n",
       "4  1901       Peace                      The Nobel Peace Prize 1901   \n",
       "\n",
       "                                          motivation prize_share  laureate_id  \\\n",
       "0  \"in recognition of the extraordinary services ...         1/1          160   \n",
       "1  \"in special recognition of his poetic composit...         1/1          569   \n",
       "2  \"for his work on serum therapy, especially its...         1/1          293   \n",
       "3                                                NaN         1/2          462   \n",
       "4                                                NaN         1/2          463   \n",
       "\n",
       "  laureate_type                     full_name  birth_date         birth_city  \\\n",
       "0    Individual  Jacobus Henricus van 't Hoff  1852-08-30          Rotterdam   \n",
       "1    Individual               Sully Prudhomme  1839-03-16              Paris   \n",
       "2    Individual        Emil Adolf von Behring  1854-03-15  Hansdorf (Lawice)   \n",
       "3    Individual             Jean Henry Dunant  1828-05-08             Geneva   \n",
       "4    Individual                Frédéric Passy  1822-05-20              Paris   \n",
       "\n",
       "      birth_country   sex   organization_name organization_city  \\\n",
       "0       Netherlands  Male   Berlin University            Berlin   \n",
       "1            France  Male                 NaN               NaN   \n",
       "2  Prussia (Poland)  Male  Marburg University           Marburg   \n",
       "3       Switzerland  Male                 NaN               NaN   \n",
       "4            France  Male                 NaN               NaN   \n",
       "\n",
       "  organization_country  death_date death_city death_country  \n",
       "0              Germany  1911-03-01     Berlin       Germany  \n",
       "1                  NaN  1907-09-07   Châtenay        France  \n",
       "2              Germany  1917-03-31    Marburg       Germany  \n",
       "3                  NaN  1910-10-30     Heiden   Switzerland  \n",
       "4                  NaN  1912-06-12      Paris        France  "
      ]
     },
     "execution_count": 1,
     "metadata": {},
     "output_type": "execute_result"
    }
   ],
   "source": [
    "# Loading required libraries\n",
    "import pandas as pd\n",
    "import matplotlib.pyplot as plt\n",
    "import seaborn as sns\n",
    "import numpy as np\n",
    "df = pd.read_csv(\"/kaggle/input/schools/nobel.csv\")\n",
    "df.head()"
   ]
  },
  {
   "cell_type": "code",
   "execution_count": 2,
   "id": "4dd6c60b",
   "metadata": {
    "execution": {
     "iopub.execute_input": "2024-08-27T09:59:50.565896Z",
     "iopub.status.busy": "2024-08-27T09:59:50.565456Z",
     "iopub.status.idle": "2024-08-27T09:59:50.580916Z",
     "shell.execute_reply": "2024-08-27T09:59:50.579534Z"
    },
    "executionCancelledAt": null,
    "executionTime": 56,
    "lastExecutedAt": 1724751334846,
    "lastExecutedByKernel": "f60f6da7-9912-45a7-b29e-5975348887fe",
    "lastScheduledRunId": null,
    "lastSuccessfullyExecutedCode": "gender = df[\"sex\"].value_counts()\ncountry = df[\"birth_country\"].value_counts()\n\ntop_g= gender.sort_values(ascending=False).index[0]\ntop_c = country.sort_values(ascending= False).index[0]\n\nprint(top_g,top_c)",
    "outputsMetadata": {
     "0": {
      "height": 38,
      "type": "stream"
     }
    },
    "papermill": {
     "duration": 0.025175,
     "end_time": "2024-08-27T09:59:50.583870",
     "exception": false,
     "start_time": "2024-08-27T09:59:50.558695",
     "status": "completed"
    },
    "tags": []
   },
   "outputs": [
    {
     "name": "stdout",
     "output_type": "stream",
     "text": [
      "Male United States of America\n"
     ]
    }
   ],
   "source": [
    "gender = df[\"sex\"].value_counts()\n",
    "country = df[\"birth_country\"].value_counts()\n",
    "\n",
    "top_g= gender.sort_values(ascending=False).index[0]\n",
    "top_c = country.sort_values(ascending= False).index[0]\n",
    "\n",
    "print(top_g,top_c)"
   ]
  },
  {
   "cell_type": "code",
   "execution_count": 3,
   "id": "a77faf57",
   "metadata": {
    "collapsed": false,
    "execution": {
     "iopub.execute_input": "2024-08-27T09:59:50.596425Z",
     "iopub.status.busy": "2024-08-27T09:59:50.595246Z",
     "iopub.status.idle": "2024-08-27T09:59:50.613970Z",
     "shell.execute_reply": "2024-08-27T09:59:50.612377Z"
    },
    "executionCancelledAt": null,
    "executionTime": 52,
    "jupyter": {
     "outputs_hidden": false,
     "source_hidden": false
    },
    "lastExecutedAt": 1724751334898,
    "lastExecutedByKernel": "f60f6da7-9912-45a7-b29e-5975348887fe",
    "lastScheduledRunId": null,
    "lastSuccessfullyExecutedCode": "us = df[df[\"birth_country\"]==\"United States of America\"]\n\n# we are dividing the value for each year by 10 to get the value as floor and then multiply by 10 to get the decade\nus_dec = (np.floor(us[\"year\"] / 10) * 10).astype(int)\n\nus_ratio = us_dec.value_counts(normalize=True).sort_values(ascending=False).index[0]\n\nprint(us_ratio)",
    "outputsMetadata": {
     "0": {
      "height": 38,
      "type": "stream"
     }
    },
    "papermill": {
     "duration": 0.028037,
     "end_time": "2024-08-27T09:59:50.616826",
     "exception": false,
     "start_time": "2024-08-27T09:59:50.588789",
     "status": "completed"
    },
    "tags": []
   },
   "outputs": [
    {
     "name": "stdout",
     "output_type": "stream",
     "text": [
      "2000\n"
     ]
    }
   ],
   "source": [
    "us = df[df[\"birth_country\"]==\"United States of America\"]\n",
    "\n",
    "# we are dividing the value for each year by 10 to get the value as floor and then multiply by 10 to get the decade\n",
    "us_dec = (np.floor(us[\"year\"] / 10) * 10).astype(int)\n",
    "\n",
    "us_ratio = us_dec.value_counts(normalize=True).sort_values(ascending=False).index[0]\n",
    "\n",
    "print(us_ratio)"
   ]
  },
  {
   "cell_type": "code",
   "execution_count": 4,
   "id": "bc5610af",
   "metadata": {
    "execution": {
     "iopub.execute_input": "2024-08-27T09:59:50.629130Z",
     "iopub.status.busy": "2024-08-27T09:59:50.628597Z",
     "iopub.status.idle": "2024-08-27T09:59:51.133547Z",
     "shell.execute_reply": "2024-08-27T09:59:51.132171Z"
    },
    "executionCancelledAt": null,
    "executionTime": 19,
    "lastExecutedAt": 1724751360210,
    "lastExecutedByKernel": "f60f6da7-9912-45a7-b29e-5975348887fe",
    "lastScheduledRunId": null,
    "lastSuccessfullyExecutedCode": "df['decade'] = (np.floor(df[\"year\"] / 10) * 10).astype(int)\ndf[\"female_winner\"]= df[\"sex\"]==\"Female\"\ndf2= df.groupby([\"decade\",\"category\"],as_index=False)[\"female_winner\"].mean().sort_values(by=\"female_winner\",ascending=False)\ndfset=df2[[\"decade\",\"category\"]]\nmax_female_dict = dfset.iloc[0]\nmax_female_dict",
    "outputsMetadata": {
     "0": {
      "height": 318,
      "type": "dataFrame"
     }
    },
    "papermill": {
     "duration": 0.514465,
     "end_time": "2024-08-27T09:59:51.136441",
     "exception": false,
     "start_time": "2024-08-27T09:59:50.621976",
     "status": "completed"
    },
    "tags": []
   },
   "outputs": [
    {
     "data": {
      "text/plain": [
       "decade                 2020\n",
       "category         Literature\n",
       "female_winner           0.5\n",
       "Name: 68, dtype: object"
      ]
     },
     "execution_count": 4,
     "metadata": {},
     "output_type": "execute_result"
    },
    {
     "data": {
      "image/png": "[encoded data removed]",
      "text/plain": [
       "<Figure size 640x480 with 1 Axes>"
      ]
     },
     "metadata": {},
     "output_type": "display_data"
    }
   ],
   "source": [
    "df['decade'] = (np.floor(df[\"year\"] / 10) * 10).astype(int)\n",
    "df[\"female_winner\"]= df[\"sex\"]==\"Female\"\n",
    "df2= df.groupby([\"decade\",\"category\"],as_index=False)[\"female_winner\"].mean().sort_values(by=\"female_winner\",ascending=False)\n",
    "max_female_dict = df2.iloc[0]\n",
    "\n",
    "sns.barplot(data=df2,x = 'decade',y='category')\n",
    "plt.xlim(1900,None)\n",
    "max_female_dict\n"
   ]
  },
  {
   "cell_type": "code",
   "execution_count": 5,
   "id": "cf836cdd",
   "metadata": {
    "execution": {
     "iopub.execute_input": "2024-08-27T09:59:51.151118Z",
     "iopub.status.busy": "2024-08-27T09:59:51.149515Z",
     "iopub.status.idle": "2024-08-27T09:59:51.161555Z",
     "shell.execute_reply": "2024-08-27T09:59:51.159956Z"
    },
    "executionCancelledAt": null,
    "executionTime": 49,
    "lastExecutedAt": 1724751334999,
    "lastExecutedByKernel": "f60f6da7-9912-45a7-b29e-5975348887fe",
    "lastScheduledRunId": null,
    "lastSuccessfullyExecutedCode": "female=df[df[\"sex\"]==\"Female\"]\n\nsorted_female = female.sort_values(by=\"year\",ascending= True)\nfirst_woman_name =sorted_female.loc[19,\"full_name\"]\n\nfirst_woman_category= sorted_female.loc[19,\"category\"]\nprint(first_woman_name,first_woman_category)",
    "outputsMetadata": {
     "0": {
      "height": 38,
      "type": "stream"
     }
    },
    "papermill": {
     "duration": 0.022244,
     "end_time": "2024-08-27T09:59:51.164356",
     "exception": false,
     "start_time": "2024-08-27T09:59:51.142112",
     "status": "completed"
    },
    "tags": []
   },
   "outputs": [
    {
     "name": "stdout",
     "output_type": "stream",
     "text": [
      "Marie Curie, née Sklodowska Physics\n"
     ]
    }
   ],
   "source": [
    "female=df[df[\"sex\"]==\"Female\"]\n",
    "\n",
    "sorted_female = female.sort_values(by=\"year\",ascending= True)\n",
    "first_woman_name =sorted_female.loc[19,\"full_name\"]\n",
    "\n",
    "first_woman_category= sorted_female.loc[19,\"category\"]\n",
    "print(first_woman_name,first_woman_category)"
   ]
  },
  {
   "cell_type": "code",
   "execution_count": 6,
   "id": "3ccc8e22",
   "metadata": {
    "execution": {
     "iopub.execute_input": "2024-08-27T09:59:51.179065Z",
     "iopub.status.busy": "2024-08-27T09:59:51.178107Z",
     "iopub.status.idle": "2024-08-27T09:59:51.189607Z",
     "shell.execute_reply": "2024-08-27T09:59:51.188411Z"
    },
    "executionCancelledAt": null,
    "executionTime": 55,
    "lastExecutedAt": 1724751335054,
    "lastExecutedByKernel": "f60f6da7-9912-45a7-b29e-5975348887fe",
    "lastScheduledRunId": null,
    "lastSuccessfullyExecutedCode": "df_rank = df[\"full_name\"].value_counts()\nrepeat= df_rank[df_rank >= 2].index\nrepeat_list = list(repeat)\nrepeat_list",
    "outputsMetadata": {
     "0": {
      "height": 206,
      "type": "stream"
     }
    },
    "papermill": {
     "duration": 0.022043,
     "end_time": "2024-08-27T09:59:51.192470",
     "exception": false,
     "start_time": "2024-08-27T09:59:51.170427",
     "status": "completed"
    },
    "tags": []
   },
   "outputs": [
    {
     "data": {
      "text/plain": [
       "['Comité international de la Croix Rouge (International Committee of the Red Cross)',\n",
       " 'Linus Carl Pauling',\n",
       " 'John Bardeen',\n",
       " 'Frederick Sanger',\n",
       " 'Marie Curie, née Sklodowska',\n",
       " 'Office of the United Nations High Commissioner for Refugees (UNHCR)']"
      ]
     },
     "execution_count": 6,
     "metadata": {},
     "output_type": "execute_result"
    }
   ],
   "source": [
    "df_rank = df[\"full_name\"].value_counts()\n",
    "repeat= df_rank[df_rank >= 2].index\n",
    "repeat_list = list(repeat)\n",
    "repeat_list\n"
   ]
  }
 ],
 "metadata": {
  "editor": "DataCamp Workspace",
  "kaggle": {
   "accelerator": "none",
   "dataSources": [
    {
     "datasetId": 5601312,
     "sourceId": 9257733,
     "sourceType": "datasetVersion"
    }
   ],
   "dockerImageVersionId": 30761,
   "isGpuEnabled": false,
   "isInternetEnabled": true,
   "language": "python",
   "sourceType": "notebook"
  },
  "kernelspec": {
   "display_name": "Python 3",
   "language": "python",
   "name": "python3"
  },
  "language_info": {
   "codemirror_mode": {
    "name": "ipython",
    "version": 3
   },
   "file_extension": ".py",
   "mimetype": "text/x-python",
   "name": "python",
   "nbconvert_exporter": "python",
   "pygments_lexer": "ipython3",
   "version": "3.10.14"
  },
  "papermill": {
   "default_parameters": {},
   "duration": 6.862753,
   "end_time": "2024-08-27T09:59:51.822766",
   "environment_variables": {},
   "exception": null,
   "input_path": "__notebook__.ipynb",
   "output_path": "__notebook__.ipynb",
   "parameters": {},
   "start_time": "2024-08-27T09:59:44.960013",
   "version": "2.6.0"
  }
 },
 "nbformat": 4,
 "nbformat_minor": 5
}
